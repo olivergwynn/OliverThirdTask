{
 "cells": [
  {
   "cell_type": "markdown",
   "id": "31ecde5b-a777-4575-b85a-cdace8c5cdac",
   "metadata": {},
   "source": [
    "# Projected Growth in Metropolitan Planning Organization"
   ]
  },
  {
   "cell_type": "markdown",
   "id": "c9474f75-08e1-48e8-acfa-2a06268c5b89",
   "metadata": {
    "jp-MarkdownHeadingCollapsed": true
   },
   "source": [
    "## Introduction"
   ]
  },
  {
   "cell_type": "markdown",
   "id": "edaabe2c-f4c5-4c5a-bc16-896fa9527eb4",
   "metadata": {},
   "source": [
    "This script is meant to take MORPC County Fortcasts data to filter for Franklin and Delaware Counties from 2010-2021, and create a new combined table and line graph to visualize the employment levels in both counties."
   ]
  },
  {
   "cell_type": "markdown",
   "id": "b63bcaf4-5fc4-473f-b2fb-cb716d7fcacb",
   "metadata": {},
   "source": [
    "### Process Outline"
   ]
  },
  {
   "cell_type": "markdown",
   "id": "9c87be89-32e4-44e3-af55-c451bee8e02f",
   "metadata": {},
   "source": [
    "The process carried out by this workflow can be described as follows:\n",
    "  - The script will retrieve the QCEW datasets from the US Bureau of Labor Statistics\n",
    "  - Filter to only retain and sum records from Franklin or Delawre, Ohio 2010-2021\n",
    "  - Identify and keep only the rows containing all industires and all coverage\n",
    "  - Write aggregated table and line chart to Excel to visualize the changes in employment levels"
   ]
  },
  {
   "cell_type": "markdown",
   "id": "eabf25f4-0682-4eb1-90ad-8fbd5ef70787",
   "metadata": {},
   "source": [
    "## Setup"
   ]
  },
  {
   "cell_type": "markdown",
   "id": "64a70168-ed69-48b8-940d-08e0566fd709",
   "metadata": {},
   "source": [
    "### Import required package"
   ]
  },
  {
   "cell_type": "code",
   "execution_count": 148,
   "id": "cb71c5b7-f061-4772-80ae-03573e131481",
   "metadata": {},
   "outputs": [],
   "source": [
    "import csv\n",
    "import os\n",
    "import urllib.request\n",
    "import numpy as np\n",
    "import urllib\n",
    "import matplotlib.pyplot as plt\n",
    "import pandas as pd\n",
    "import json\n",
    "import xlsxwriter\n",
    "from io import BytesIO\n",
    "from tableschema import Table\n",
    "import sys\n",
    "sys.path.append(os.path.normpath(\"../morpc-common\"))\n",
    "import morpc"
   ]
  },
  {
   "cell_type": "markdown",
   "id": "05530b6c-fd5c-483c-9a0e-b50051422c1a",
   "metadata": {},
   "source": [
    "### Parameters"
   ]
  },
  {
   "cell_type": "code",
   "execution_count": 128,
   "id": "903e357f-db12-4b5a-af04-c5ef65426180",
   "metadata": {},
   "outputs": [],
   "source": [
    "# Define input and output directories\n",
    "INPUT_DIR = \"./input_data\"\n",
    "OUTPUT_DIR = \"./output_data\""
   ]
  },
  {
   "cell_type": "markdown",
   "id": "c7e6e88c-5a26-4cb0-9564-d236050ac351",
   "metadata": {},
   "source": [
    "### Define inputs"
   ]
  },
  {
   "cell_type": "markdown",
   "id": "388abfe5-6d11-4984-9c66-9ca9da4b2cef",
   "metadata": {},
   "source": [
    "#### MORPC Data"
   ]
  },
  {
   "cell_type": "code",
   "execution_count": 129,
   "id": "ee66d1bf-dd1d-4f36-aee7-31cddafd0ff2",
   "metadata": {},
   "outputs": [
    {
     "name": "stdout",
     "output_type": "stream",
     "text": [
      "Data: ./input_data\\All Data (Unformatted).csv\n",
      "Schema: ./input_data\\All Data (Unformatted)_schema.json\n"
     ]
    }
   ],
   "source": [
    "COMBINED_TABLE_FILENAME = \"All Data (Unformatted).csv\"\n",
    "COMBINED_TABLE_PATH = os.path.join(INPUT_DIR, COMBINED_TABLE_FILENAME)\n",
    "COMBINED_TABLE_SCHEMA_FILENAME = COMBINED_TABLE_FILENAME.replace(\".csv\",\"_schema.json\")\n",
    "COMBINED_TABLE_SCHEMA_PATH = os.path.join(INPUT_DIR, COMBINED_TABLE_SCHEMA_FILENAME)\n",
    "print(\"Data: {}\".format(COMBINED_TABLE_PATH))\n",
    "print(\"Schema: {}\".format(COMBINED_TABLE_SCHEMA_PATH))"
   ]
  },
  {
   "cell_type": "markdown",
   "id": "37829d7b-1f22-4187-ad51-c742aaea9620",
   "metadata": {},
   "source": [
    "#### Complined Excel Sheet"
   ]
  },
  {
   "cell_type": "code",
   "execution_count": 130,
   "id": "47cbfba9-4cb4-430b-b78a-9eac4a35754a",
   "metadata": {},
   "outputs": [
    {
     "name": "stdout",
     "output_type": "stream",
     "text": [
      "Output data path: ./output_data\\compiled.xlsx\n"
     ]
    }
   ],
   "source": [
    "EXCEL_TABLE_FILENAME = \"compiled.xlsx\"\n",
    "EXCEL_TABLE_PATH = os.path.join(OUTPUT_DIR, EXCEL_TABLE_FILENAME)\n",
    "print(\"Output data path: {}\".format(EXCEL_TABLE_PATH))"
   ]
  },
  {
   "cell_type": "markdown",
   "id": "d399902a-7dfc-418c-b10a-f23d77f71e5b",
   "metadata": {},
   "source": [
    "### Define outputs"
   ]
  },
  {
   "cell_type": "markdown",
   "id": "bd177fc7-552b-42f0-b5b6-390f953e85c7",
   "metadata": {},
   "source": [
    "#### Franklin and Delaware counties employment level by year (2010-2021)"
   ]
  },
  {
   "cell_type": "code",
   "execution_count": 131,
   "id": "d22f07df-c42b-44bb-9d36-3c053e914656",
   "metadata": {},
   "outputs": [
    {
     "name": "stdout",
     "output_type": "stream",
     "text": [
      "Data: ./output_data\\combined.csv\n",
      "Schema: ./output_data\\combined_schema.json\n"
     ]
    }
   ],
   "source": [
    "OUTPUT_TABLE_FILENAME = \"combined.csv\"\n",
    "OUTPUT_TABLE_PATH = os.path.join(OUTPUT_DIR, OUTPUT_TABLE_FILENAME)\n",
    "OUTPUT_TABLE_SCHEMA_FILENAME = OUTPUT_TABLE_FILENAME.replace(\".csv\",\"_schema.json\")\n",
    "OUTPUT_TABLE_SCHEMA_PATH = os.path.join(OUTPUT_DIR, OUTPUT_TABLE_SCHEMA_FILENAME)\n",
    "print(\"Data: {}\".format(OUTPUT_TABLE_PATH))\n",
    "print(\"Schema: {}\".format(OUTPUT_TABLE_SCHEMA_PATH))"
   ]
  },
  {
   "cell_type": "markdown",
   "id": "467fff3c-9945-4abc-8b6e-803ba431d4d2",
   "metadata": {},
   "source": [
    "## Getting input data"
   ]
  },
  {
   "cell_type": "code",
   "execution_count": 132,
   "id": "6dd60c85-405d-45de-a6be-d1436f53debf",
   "metadata": {},
   "outputs": [
    {
     "name": "stdout",
     "output_type": "stream",
     "text": [
      "Saved Sheet1 to ./input_data/Sheet1.csv\n"
     ]
    }
   ],
   "source": [
    "# Path to the .xlsx file\n",
    "excel_path = \"../morpc-county-controls/deliverables/CountyControls_WEB.xlsx\"\n",
    "\n",
    "# Use ExcelFile to open the Excel file and iterate through sheets\n",
    "with pd.ExcelFile(excel_path) as xls:\n",
    "    for sheet_name in xls.sheet_names:\n",
    "        # Read each sheet to a pandas DataFrame\n",
    "        df = pd.read_excel(xls, sheet_name=sheet_name)\n",
    "        \n",
    "        # Generate CSV file name based on sheet name\n",
    "        csv_file = f'./input_data/{sheet_name}.csv'\n",
    "        \n",
    "        # Save the DataFrame as a CSV file\n",
    "        df.to_csv(csv_file, index=False)\n",
    "\n",
    "        print(f'Saved {sheet_name} to {csv_file}')\n"
   ]
  },
  {
   "cell_type": "markdown",
   "id": "ca9cc474-7f36-4b68-8443-aa9356c98512",
   "metadata": {},
   "source": [
    "## Formatting and fitlering all data"
   ]
  },
  {
   "cell_type": "code",
   "execution_count": 133,
   "id": "69247632-7b19-4f8c-aaf3-0202c84e5946",
   "metadata": {},
   "outputs": [
    {
     "data": {
      "text/html": [
       "<div>\n",
       "<style scoped>\n",
       "    .dataframe tbody tr th:only-of-type {\n",
       "        vertical-align: middle;\n",
       "    }\n",
       "\n",
       "    .dataframe tbody tr th {\n",
       "        vertical-align: top;\n",
       "    }\n",
       "\n",
       "    .dataframe thead th {\n",
       "        text-align: right;\n",
       "    }\n",
       "</style>\n",
       "<table border=\"1\" class=\"dataframe\">\n",
       "  <thead>\n",
       "    <tr style=\"text-align: right;\">\n",
       "      <th></th>\n",
       "      <th>COUNTY</th>\n",
       "      <th>CATEGORY</th>\n",
       "      <th>VARIABLE</th>\n",
       "      <th>2020</th>\n",
       "      <th>2021</th>\n",
       "      <th>2025</th>\n",
       "      <th>2030</th>\n",
       "      <th>2035</th>\n",
       "      <th>2040</th>\n",
       "      <th>2045</th>\n",
       "      <th>2050</th>\n",
       "    </tr>\n",
       "  </thead>\n",
       "  <tbody>\n",
       "    <tr>\n",
       "      <th>0</th>\n",
       "      <td>15-County Region</td>\n",
       "      <td>Employment</td>\n",
       "      <td>Industrial Employment</td>\n",
       "      <td>271473.0</td>\n",
       "      <td>274455.0</td>\n",
       "      <td>286375</td>\n",
       "      <td>298045</td>\n",
       "      <td>314195</td>\n",
       "      <td>327874</td>\n",
       "      <td>340388</td>\n",
       "      <td>351959</td>\n",
       "    </tr>\n",
       "    <tr>\n",
       "      <th>1</th>\n",
       "      <td>10-County Region</td>\n",
       "      <td>Employment</td>\n",
       "      <td>Industrial Employment</td>\n",
       "      <td>247237.0</td>\n",
       "      <td>250283.0</td>\n",
       "      <td>262461</td>\n",
       "      <td>274305</td>\n",
       "      <td>290443</td>\n",
       "      <td>303964</td>\n",
       "      <td>316226</td>\n",
       "      <td>327549</td>\n",
       "    </tr>\n",
       "    <tr>\n",
       "      <th>2</th>\n",
       "      <td>Delaware</td>\n",
       "      <td>Employment</td>\n",
       "      <td>Industrial Employment</td>\n",
       "      <td>17983.0</td>\n",
       "      <td>18473.0</td>\n",
       "      <td>20432</td>\n",
       "      <td>22644</td>\n",
       "      <td>25026</td>\n",
       "      <td>27276</td>\n",
       "      <td>29472</td>\n",
       "      <td>31778</td>\n",
       "    </tr>\n",
       "    <tr>\n",
       "      <th>3</th>\n",
       "      <td>Fairfield</td>\n",
       "      <td>Employment</td>\n",
       "      <td>Industrial Employment</td>\n",
       "      <td>11631.0</td>\n",
       "      <td>11719.0</td>\n",
       "      <td>12071</td>\n",
       "      <td>12527</td>\n",
       "      <td>13191</td>\n",
       "      <td>13902</td>\n",
       "      <td>14625</td>\n",
       "      <td>15317</td>\n",
       "    </tr>\n",
       "    <tr>\n",
       "      <th>4</th>\n",
       "      <td>Fayette</td>\n",
       "      <td>Employment</td>\n",
       "      <td>Industrial Employment</td>\n",
       "      <td>4383.0</td>\n",
       "      <td>4394.0</td>\n",
       "      <td>4439</td>\n",
       "      <td>4520</td>\n",
       "      <td>4588</td>\n",
       "      <td>4659</td>\n",
       "      <td>4747</td>\n",
       "      <td>4851</td>\n",
       "    </tr>\n",
       "  </tbody>\n",
       "</table>\n",
       "</div>"
      ],
      "text/plain": [
       "             COUNTY    CATEGORY               VARIABLE      2020      2021  \\\n",
       "0  15-County Region  Employment  Industrial Employment  271473.0  274455.0   \n",
       "1  10-County Region  Employment  Industrial Employment  247237.0  250283.0   \n",
       "2          Delaware  Employment  Industrial Employment   17983.0   18473.0   \n",
       "3         Fairfield  Employment  Industrial Employment   11631.0   11719.0   \n",
       "4           Fayette  Employment  Industrial Employment    4383.0    4394.0   \n",
       "\n",
       "     2025    2030    2035    2040    2045    2050  \n",
       "0  286375  298045  314195  327874  340388  351959  \n",
       "1  262461  274305  290443  303964  316226  327549  \n",
       "2   20432   22644   25026   27276   29472   31778  \n",
       "3   12071   12527   13191   13902   14625   15317  \n",
       "4    4439    4520    4588    4659    4747    4851  "
      ]
     },
     "execution_count": 133,
     "metadata": {},
     "output_type": "execute_result"
    }
   ],
   "source": [
    "# Read the CSV file into a DataFrame\n",
    "df = pd.read_csv(COMBINED_TABLE_PATH)\n",
    "df.head()"
   ]
  },
  {
   "cell_type": "markdown",
   "id": "92e2c4dd-f7e2-4dc6-9c75-acc08193aba1",
   "metadata": {},
   "source": [
    "### Filter for Franklin and Delaware"
   ]
  },
  {
   "cell_type": "code",
   "execution_count": 134,
   "id": "1f47c15a-82ac-44b9-89b4-3e76b263ac56",
   "metadata": {},
   "outputs": [
    {
     "data": {
      "text/html": [
       "<div>\n",
       "<style scoped>\n",
       "    .dataframe tbody tr th:only-of-type {\n",
       "        vertical-align: middle;\n",
       "    }\n",
       "\n",
       "    .dataframe tbody tr th {\n",
       "        vertical-align: top;\n",
       "    }\n",
       "\n",
       "    .dataframe thead th {\n",
       "        text-align: right;\n",
       "    }\n",
       "</style>\n",
       "<table border=\"1\" class=\"dataframe\">\n",
       "  <thead>\n",
       "    <tr style=\"text-align: right;\">\n",
       "      <th></th>\n",
       "      <th>COUNTY</th>\n",
       "      <th>CATEGORY</th>\n",
       "      <th>VARIABLE</th>\n",
       "      <th>2020</th>\n",
       "      <th>2021</th>\n",
       "      <th>2025</th>\n",
       "      <th>2030</th>\n",
       "      <th>2035</th>\n",
       "      <th>2040</th>\n",
       "      <th>2045</th>\n",
       "      <th>2050</th>\n",
       "    </tr>\n",
       "  </thead>\n",
       "  <tbody>\n",
       "    <tr>\n",
       "      <th>2</th>\n",
       "      <td>Delaware</td>\n",
       "      <td>Employment</td>\n",
       "      <td>Industrial Employment</td>\n",
       "      <td>17983.0</td>\n",
       "      <td>18473.0</td>\n",
       "      <td>20432</td>\n",
       "      <td>22644</td>\n",
       "      <td>25026</td>\n",
       "      <td>27276</td>\n",
       "      <td>29472</td>\n",
       "      <td>31778</td>\n",
       "    </tr>\n",
       "    <tr>\n",
       "      <th>5</th>\n",
       "      <td>Franklin</td>\n",
       "      <td>Employment</td>\n",
       "      <td>Industrial Employment</td>\n",
       "      <td>152138.0</td>\n",
       "      <td>153068.0</td>\n",
       "      <td>156790</td>\n",
       "      <td>161726</td>\n",
       "      <td>169623</td>\n",
       "      <td>176594</td>\n",
       "      <td>182552</td>\n",
       "      <td>187699</td>\n",
       "    </tr>\n",
       "    <tr>\n",
       "      <th>19</th>\n",
       "      <td>Delaware</td>\n",
       "      <td>Employment</td>\n",
       "      <td>Office Employment</td>\n",
       "      <td>45294.0</td>\n",
       "      <td>46527.0</td>\n",
       "      <td>51459</td>\n",
       "      <td>57034</td>\n",
       "      <td>63032</td>\n",
       "      <td>68700</td>\n",
       "      <td>74231</td>\n",
       "      <td>80036</td>\n",
       "    </tr>\n",
       "    <tr>\n",
       "      <th>22</th>\n",
       "      <td>Franklin</td>\n",
       "      <td>Employment</td>\n",
       "      <td>Office Employment</td>\n",
       "      <td>374910.0</td>\n",
       "      <td>377203.0</td>\n",
       "      <td>386374</td>\n",
       "      <td>398536</td>\n",
       "      <td>417998</td>\n",
       "      <td>435172</td>\n",
       "      <td>449857</td>\n",
       "      <td>462543</td>\n",
       "    </tr>\n",
       "    <tr>\n",
       "      <th>36</th>\n",
       "      <td>Delaware</td>\n",
       "      <td>Employment</td>\n",
       "      <td>Other Employment</td>\n",
       "      <td>11835.0</td>\n",
       "      <td>12156.0</td>\n",
       "      <td>13444</td>\n",
       "      <td>14900</td>\n",
       "      <td>16467</td>\n",
       "      <td>17948</td>\n",
       "      <td>19393</td>\n",
       "      <td>20909</td>\n",
       "    </tr>\n",
       "  </tbody>\n",
       "</table>\n",
       "</div>"
      ],
      "text/plain": [
       "      COUNTY    CATEGORY               VARIABLE      2020      2021    2025  \\\n",
       "2   Delaware  Employment  Industrial Employment   17983.0   18473.0   20432   \n",
       "5   Franklin  Employment  Industrial Employment  152138.0  153068.0  156790   \n",
       "19  Delaware  Employment      Office Employment   45294.0   46527.0   51459   \n",
       "22  Franklin  Employment      Office Employment  374910.0  377203.0  386374   \n",
       "36  Delaware  Employment       Other Employment   11835.0   12156.0   13444   \n",
       "\n",
       "      2030    2035    2040    2045    2050  \n",
       "2    22644   25026   27276   29472   31778  \n",
       "5   161726  169623  176594  182552  187699  \n",
       "19   57034   63032   68700   74231   80036  \n",
       "22  398536  417998  435172  449857  462543  \n",
       "36   14900   16467   17948   19393   20909  "
      ]
     },
     "execution_count": 134,
     "metadata": {},
     "output_type": "execute_result"
    }
   ],
   "source": [
    "# Filter rows where COUNTY is \"Delaware\" or \"Franklin\"\n",
    "filtered_df = df.loc[df['COUNTY'].isin(['Delaware', 'Franklin'])]\n",
    "\n",
    "filtered_df.head()"
   ]
  },
  {
   "cell_type": "markdown",
   "id": "d99be378-3b58-4b16-9183-07f6690de558",
   "metadata": {},
   "source": [
    "#### Filter for Total Jobs"
   ]
  },
  {
   "cell_type": "code",
   "execution_count": 135,
   "id": "61568a12-dce5-404b-b96c-3ce5d657da0d",
   "metadata": {},
   "outputs": [
    {
     "data": {
      "text/html": [
       "<div>\n",
       "<style scoped>\n",
       "    .dataframe tbody tr th:only-of-type {\n",
       "        vertical-align: middle;\n",
       "    }\n",
       "\n",
       "    .dataframe tbody tr th {\n",
       "        vertical-align: top;\n",
       "    }\n",
       "\n",
       "    .dataframe thead th {\n",
       "        text-align: right;\n",
       "    }\n",
       "</style>\n",
       "<table border=\"1\" class=\"dataframe\">\n",
       "  <thead>\n",
       "    <tr style=\"text-align: right;\">\n",
       "      <th></th>\n",
       "      <th>2020</th>\n",
       "      <th>2021</th>\n",
       "      <th>2025</th>\n",
       "      <th>2030</th>\n",
       "      <th>2035</th>\n",
       "      <th>2040</th>\n",
       "      <th>2045</th>\n",
       "      <th>2050</th>\n",
       "      <th>category</th>\n",
       "    </tr>\n",
       "  </thead>\n",
       "  <tbody>\n",
       "    <tr>\n",
       "      <th>0</th>\n",
       "      <td>930781.0</td>\n",
       "      <td>938724.0</td>\n",
       "      <td>970499.0</td>\n",
       "      <td>1005943.0</td>\n",
       "      <td>1067270.0</td>\n",
       "      <td>1118372.0</td>\n",
       "      <td>1163678.0</td>\n",
       "      <td>1205236.0</td>\n",
       "      <td>Jobs</td>\n",
       "    </tr>\n",
       "  </tbody>\n",
       "</table>\n",
       "</div>"
      ],
      "text/plain": [
       "       2020      2021      2025       2030       2035       2040       2045  \\\n",
       "0  930781.0  938724.0  970499.0  1005943.0  1067270.0  1118372.0  1163678.0   \n",
       "\n",
       "        2050 category  \n",
       "0  1205236.0     Jobs  "
      ]
     },
     "execution_count": 135,
     "metadata": {},
     "output_type": "execute_result"
    }
   ],
   "source": [
    "# Filter rows where CATEGORY is \"Employment\" AND VARIABLE is \"Total Employment\"\n",
    "jobs_total_df = filtered_df.loc[(filtered_df['CATEGORY'] == 'Employment') & (filtered_df['VARIABLE'] == 'Total Employment')]\n",
    "\n",
    "# Identify string and numerical columns\n",
    "string_columns = jobs_total_df.select_dtypes(include=['object']).columns\n",
    "numerical_columns = jobs_total_df.select_dtypes(include=[np.number]).columns\n",
    "\n",
    "# Summing numerical columns\n",
    "numerical_sum = jobs_total_df[numerical_columns].sum(axis=0)\n",
    "\n",
    "# Convert numerical_sum to a DataFrame with a single row\n",
    "jobs_total_df = pd.DataFrame([numerical_sum])\n",
    "\n",
    "jobs_total_df['category'] = 'Jobs'\n",
    "\n",
    "jobs_total_df.head()"
   ]
  },
  {
   "cell_type": "markdown",
   "id": "13c71f68-ad46-43f2-b73b-d10bbe9fc8e8",
   "metadata": {},
   "source": [
    "#### Filter for Total Population"
   ]
  },
  {
   "cell_type": "code",
   "execution_count": 136,
   "id": "faadcbae-cdcc-4692-ba87-7f5a09518dfb",
   "metadata": {},
   "outputs": [
    {
     "data": {
      "text/html": [
       "<div>\n",
       "<style scoped>\n",
       "    .dataframe tbody tr th:only-of-type {\n",
       "        vertical-align: middle;\n",
       "    }\n",
       "\n",
       "    .dataframe tbody tr th {\n",
       "        vertical-align: top;\n",
       "    }\n",
       "\n",
       "    .dataframe thead th {\n",
       "        text-align: right;\n",
       "    }\n",
       "</style>\n",
       "<table border=\"1\" class=\"dataframe\">\n",
       "  <thead>\n",
       "    <tr style=\"text-align: right;\">\n",
       "      <th></th>\n",
       "      <th>2020</th>\n",
       "      <th>2021</th>\n",
       "      <th>2025</th>\n",
       "      <th>2030</th>\n",
       "      <th>2035</th>\n",
       "      <th>2040</th>\n",
       "      <th>2045</th>\n",
       "      <th>2050</th>\n",
       "      <th>category</th>\n",
       "    </tr>\n",
       "  </thead>\n",
       "  <tbody>\n",
       "    <tr>\n",
       "      <th>0</th>\n",
       "      <td>1539075.0</td>\n",
       "      <td>1542154.0</td>\n",
       "      <td>1637143.0</td>\n",
       "      <td>1724574.0</td>\n",
       "      <td>1830707.0</td>\n",
       "      <td>1915468.0</td>\n",
       "      <td>1989539.0</td>\n",
       "      <td>2063611.0</td>\n",
       "      <td>Population</td>\n",
       "    </tr>\n",
       "  </tbody>\n",
       "</table>\n",
       "</div>"
      ],
      "text/plain": [
       "        2020       2021       2025       2030       2035       2040  \\\n",
       "0  1539075.0  1542154.0  1637143.0  1724574.0  1830707.0  1915468.0   \n",
       "\n",
       "        2045       2050    category  \n",
       "0  1989539.0  2063611.0  Population  "
      ]
     },
     "execution_count": 136,
     "metadata": {},
     "output_type": "execute_result"
    }
   ],
   "source": [
    "# Filter rows where CATEGORY is \"Population\" AND VARIABLE is \"Total Population\"\n",
    "population_total_df = filtered_df.loc[(filtered_df['CATEGORY'] == 'Population') & (filtered_df['VARIABLE'] == 'Population')]\n",
    "\n",
    "# Identify string and numerical columns\n",
    "string_columns = population_total_df.select_dtypes(include=['object']).columns\n",
    "numerical_columns = population_total_df.select_dtypes(include=[np.number]).columns\n",
    "\n",
    "# Summing numerical columns\n",
    "numerical_sum = population_total_df[numerical_columns].sum(axis=0)\n",
    "\n",
    "# Convert numerical_sum to a DataFrame with a single row\n",
    "population_total_df = pd.DataFrame([numerical_sum])\n",
    "\n",
    "population_total_df['category'] = 'Population'\n",
    "\n",
    "population_total_df.head()"
   ]
  },
  {
   "cell_type": "markdown",
   "id": "392c5447-aba4-45a8-a765-4e5e80dc4992",
   "metadata": {},
   "source": [
    "#### Filter for Total Households"
   ]
  },
  {
   "cell_type": "code",
   "execution_count": 137,
   "id": "bef85d01-7ef7-4aa3-845f-357d22b52582",
   "metadata": {},
   "outputs": [
    {
     "data": {
      "text/html": [
       "<div>\n",
       "<style scoped>\n",
       "    .dataframe tbody tr th:only-of-type {\n",
       "        vertical-align: middle;\n",
       "    }\n",
       "\n",
       "    .dataframe tbody tr th {\n",
       "        vertical-align: top;\n",
       "    }\n",
       "\n",
       "    .dataframe thead th {\n",
       "        text-align: right;\n",
       "    }\n",
       "</style>\n",
       "<table border=\"1\" class=\"dataframe\">\n",
       "  <thead>\n",
       "    <tr style=\"text-align: right;\">\n",
       "      <th></th>\n",
       "      <th>2020</th>\n",
       "      <th>2021</th>\n",
       "      <th>2025</th>\n",
       "      <th>2030</th>\n",
       "      <th>2035</th>\n",
       "      <th>2040</th>\n",
       "      <th>2045</th>\n",
       "      <th>2050</th>\n",
       "      <th>category</th>\n",
       "    </tr>\n",
       "  </thead>\n",
       "  <tbody>\n",
       "    <tr>\n",
       "      <th>0</th>\n",
       "      <td>601309.0</td>\n",
       "      <td>602250.0</td>\n",
       "      <td>638714.0</td>\n",
       "      <td>671962.0</td>\n",
       "      <td>712503.0</td>\n",
       "      <td>744711.0</td>\n",
       "      <td>772750.0</td>\n",
       "      <td>800791.0</td>\n",
       "      <td>Households</td>\n",
       "    </tr>\n",
       "  </tbody>\n",
       "</table>\n",
       "</div>"
      ],
      "text/plain": [
       "       2020      2021      2025      2030      2035      2040      2045  \\\n",
       "0  601309.0  602250.0  638714.0  671962.0  712503.0  744711.0  772750.0   \n",
       "\n",
       "       2050    category  \n",
       "0  800791.0  Households  "
      ]
     },
     "execution_count": 137,
     "metadata": {},
     "output_type": "execute_result"
    }
   ],
   "source": [
    "# Filter rows where CATEGORY is \"Households and Housing Units\" AND VARIABLE is \"Households\"\n",
    "households_total_df = filtered_df.loc[(filtered_df['CATEGORY'] == 'Households and Housing Units') & (filtered_df['VARIABLE'] == 'Households')]\n",
    "\n",
    "# Identify string and numerical columns\n",
    "string_columns = households_total_df.select_dtypes(include=['object']).columns\n",
    "numerical_columns = households_total_df.select_dtypes(include=[np.number]).columns\n",
    "\n",
    "# Summing numerical columns\n",
    "numerical_sum = households_total_df[numerical_columns].sum(axis=0)\n",
    "\n",
    "# Convert numerical_sum to a DataFrame with a single row\n",
    "households_total_df = pd.DataFrame([numerical_sum])\n",
    "\n",
    "# Add a new column 'category' and fill all cells with 'jobs'\n",
    "households_total_df['category'] = 'Households'\n",
    "\n",
    "households_total_df.head()"
   ]
  },
  {
   "cell_type": "markdown",
   "id": "9cc067ac-4dcf-4a7e-a14d-21815b3fd9bc",
   "metadata": {},
   "source": [
    "#### Combining and cleaning filtered data"
   ]
  },
  {
   "cell_type": "code",
   "execution_count": 155,
   "id": "fb79a1c9-4fad-49bc-a8cc-ee94b418a641",
   "metadata": {},
   "outputs": [],
   "source": [
    "stacked_df = pd.concat([jobs_total_df, population_total_df, households_total_df], axis=0)\n",
    "\n",
    "# List of columns to keep\n",
    "columns_to_keep = ['2020', '2050', 'category']\n",
    "\n",
    "# Filter the DataFrame to keep only the specified columns\n",
    "filtered_df = stacked_df[columns_to_keep]\n",
    "\n",
    "# List of columns with \"category\" first\n",
    "reordered_columns = ['category'] + [col for col in filtered_df.columns if col != 'category']\n",
    "\n",
    "# Reorder the DataFrame\n",
    "filtered_df = filtered_df[reordered_columns]\n",
    "\n",
    "# Calculate the change for each category\n",
    "filtered_df['change'] = filtered_df['2050'] - filtered_df['2020']\n",
    "\n",
    "# List of columns to keep\n",
    "columns_to_keep = [ 'category','2020', 'change',]\n",
    "\n",
    "# Filter the DataFrame to keep only the specified columns\n",
    "filtered_df = filtered_df[columns_to_keep]\n",
    "\n",
    "\n",
    "\n",
    "# Define the desired order for the categories\n",
    "category_order = ['Jobs','Households','Population']\n",
    "\n",
    "# Reorder the DataFrame according to the specified category order\n",
    "filtered_df['category'] = pd.Categorical(data['category'], categories=category_order, ordered=True)\n",
    "filtered_df.sort_values('category', ascending=False, inplace=True)\n",
    "\n",
    "\n",
    "\n",
    "filtered_df.head()\n",
    "filtered_df.to_csv(OUTPUT_TABLE_PATH, index=False)"
   ]
  },
  {
   "cell_type": "markdown",
   "id": "142a17d5-8b2f-4e94-9fa4-d18fb046076a",
   "metadata": {},
   "source": [
    "## Dataset and graph to Excel"
   ]
  },
  {
   "cell_type": "code",
   "execution_count": 164,
   "id": "e887833f-91f5-4e9b-b3f5-fb959faabdf7",
   "metadata": {},
   "outputs": [
    {
     "name": "stdout",
     "output_type": "stream",
     "text": [
      "Excel file with bar charts created successfully.\n"
     ]
    }
   ],
   "source": [
    "# Load the data from CSV\n",
    "data  = pd.read_csv(OUTPUT_TABLE_PATH)\n",
    "\n",
    "# Create an Excel workbook and add a worksheet\n",
    "workbook = xlsxwriter.Workbook(EXCEL_TABLE_PATH)\n",
    "worksheet = workbook.add_worksheet()\n",
    "\n",
    "# Write the column headers and the data to the worksheet\n",
    "worksheet.write('A1', 'Category')\n",
    "worksheet.write('B1', '2020')\n",
    "worksheet.write('C1', 'Change')\n",
    "worksheet.write_column('A2', data['category'])\n",
    "worksheet.write_column('B2', data['2020'])\n",
    "worksheet.write_column('C2', data['change'])\n",
    "\n",
    "# Create a chart object\n",
    "chart = workbook.add_chart({'type': 'column', 'subtype': 'stacked'})\n",
    "\n",
    "# Configure the series for the '2020' data\n",
    "chart.add_series({\n",
    "    'name':       '2020',\n",
    "    'categories': '=Sheet1!$A$2:$A$4',\n",
    "    'values':     '=Sheet1!$B$2:$B$4',\n",
    "    'fill':       {'color': morpc.CONST_MORPC_COLORS[\"midblue\"]},\n",
    "    'data_labels': {'value': True, 'font': {'color': 'white'}},\n",
    "})\n",
    "\n",
    "# Configure the series for the 'change' data\n",
    "chart.add_series({\n",
    "    'name':       'Change',\n",
    "    'categories': '=Sheet1!$A$2:$A$4',\n",
    "    'values':     '=Sheet1!$C$2:$C$4',\n",
    "    'fill':       {'color': morpc.CONST_MORPC_COLORS[\"blue\"]},\n",
    "    'data_labels': {'value': True, 'font': {'color': 'white'}},\n",
    "})\n",
    "\n",
    "# Set the chart title and axis labels\n",
    "chart.set_title({'name': 'FIGURE 2.1 PROJECTED GROWTH'})\n",
    "\n",
    "# Customize the X-axis to make the line not visible\n",
    "chart.set_x_axis({\n",
    "    'line': {'none': True},\n",
    "    'major_tick_mark': 'none',  # Ensure no tick marks\n",
    "    'minor_tick_mark': 'none',\n",
    "})\n",
    "\n",
    "# Customize the Y-axis to make the line not visible\n",
    "chart.set_y_axis({\n",
    "    'line': {'color': '#D9D9D9', 'width': 1},  # Light grey line, adjust color as needed\n",
    "    'major_gridlines': {'visible': True, 'line': {'color': '#D9D9D9', 'width': 0.5}},  # Light grey gridlines\n",
    "    'minor_gridlines': {'visible': False},  # Typically, minor gridlines are kept invisible\n",
    "    'major_tick_mark': 'none',  # Keep major tick marks invisible\n",
    "    'minor_tick_mark': 'none',  # Keep minor tick marks invisible\n",
    "})\n",
    "\n",
    "# Remove the legend\n",
    "chart.set_legend({'none': True})\n",
    "\n",
    "# Set the chart style\n",
    "chart.set_style(11)\n",
    "\n",
    "# Insert the chart into the worksheet\n",
    "worksheet.insert_chart('E2', chart)\n",
    "\n",
    "# Close the workbook\n",
    "workbook.close()\n",
    "\n",
    "# The workbook is saved automatically when exiting the 'with' block\n",
    "print(\"Excel file with bar charts created successfully.\")"
   ]
  },
  {
   "cell_type": "code",
   "execution_count": null,
   "id": "ae1962ca-f4c4-431c-a7ba-bb66bf501b39",
   "metadata": {},
   "outputs": [],
   "source": []
  }
 ],
 "metadata": {
  "kernelspec": {
   "display_name": "Python 3 (ipykernel)",
   "language": "python",
   "name": "python3"
  },
  "language_info": {
   "codemirror_mode": {
    "name": "ipython",
    "version": 3
   },
   "file_extension": ".py",
   "mimetype": "text/x-python",
   "name": "python",
   "nbconvert_exporter": "python",
   "pygments_lexer": "ipython3",
   "version": "3.12.2"
  }
 },
 "nbformat": 4,
 "nbformat_minor": 5
}
